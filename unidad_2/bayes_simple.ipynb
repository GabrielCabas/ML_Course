{
 "cells": [
  {
   "cell_type": "code",
   "execution_count": 43,
   "id": "48b38c68",
   "metadata": {},
   "outputs": [],
   "source": [
    "import pandas as pd\n",
    "import numpy as np\n",
    "import matplotlib.pyplot as plt\n",
    "import seaborn as sns"
   ]
  },
  {
   "cell_type": "markdown",
   "id": "d2ce42a4",
   "metadata": {},
   "source": [
    "## Hypothesis\n",
    "h1 = Números pares\n",
    "\n",
    "h2 = Números múltiplos de 4\n",
    "\n",
    "Datos = 4, 8, 16"
   ]
  },
  {
   "cell_type": "code",
   "execution_count": 44,
   "id": "056e5f07",
   "metadata": {},
   "outputs": [],
   "source": [
    "#Espacio muestral de nuestras hipótesis\n",
    "h1 = [a for a in range(100) if a%2 == 0] #Números pares\n",
    "h2 = [a for a in range(100) if a%4 == 0] #Números múltiplos de 4\n"
   ]
  },
  {
   "cell_type": "code",
   "execution_count": 45,
   "id": "41f21581",
   "metadata": {},
   "outputs": [
    {
     "data": {
      "text/html": [
       "<div>\n",
       "<style scoped>\n",
       "    .dataframe tbody tr th:only-of-type {\n",
       "        vertical-align: middle;\n",
       "    }\n",
       "\n",
       "    .dataframe tbody tr th {\n",
       "        vertical-align: top;\n",
       "    }\n",
       "\n",
       "    .dataframe thead th {\n",
       "        text-align: right;\n",
       "    }\n",
       "</style>\n",
       "<table border=\"1\" class=\"dataframe\">\n",
       "  <thead>\n",
       "    <tr style=\"text-align: right;\">\n",
       "      <th></th>\n",
       "      <th>prior</th>\n",
       "      <th>likelihood</th>\n",
       "      <th>posterior</th>\n",
       "    </tr>\n",
       "  </thead>\n",
       "  <tbody>\n",
       "    <tr>\n",
       "      <th>h1</th>\n",
       "      <td>NaN</td>\n",
       "      <td>NaN</td>\n",
       "      <td>NaN</td>\n",
       "    </tr>\n",
       "    <tr>\n",
       "      <th>h2</th>\n",
       "      <td>NaN</td>\n",
       "      <td>NaN</td>\n",
       "      <td>NaN</td>\n",
       "    </tr>\n",
       "  </tbody>\n",
       "</table>\n",
       "</div>"
      ],
      "text/plain": [
       "   prior likelihood posterior\n",
       "h1   NaN        NaN       NaN\n",
       "h2   NaN        NaN       NaN"
      ]
     },
     "execution_count": 45,
     "metadata": {},
     "output_type": "execute_result"
    }
   ],
   "source": [
    "bayes = pd.DataFrame(columns=[\"prior\", \"likelihood\", \"posterior\"], index=[\"h1\", \"h2\"])\n",
    "bayes"
   ]
  },
  {
   "cell_type": "code",
   "execution_count": 46,
   "id": "ec7ea120",
   "metadata": {},
   "outputs": [],
   "source": [
    "def init_prior(priors, bayes):\n",
    "    bayes = pd.DataFrame(columns=[\"prior\", \"likelihood\", \"posterior\"], index=[\"h1\", \"h2\"])\n",
    "\n",
    "    bayes.prior = priors #No tener conocimiento ni información -> Máxima entropía en mi distribución.\n",
    "    return bayes\n",
    "\n",
    "def get_likelihood(h, d):\n",
    "    if d in h: #si encuentra el dato en la hipotesis\n",
    "        return 1/len(h) #retornamos p(x|h)\n",
    "    return 1e-5 #Sino -> retorna 0.\n",
    "\n",
    "def get_posterior(d, bayes):\n",
    "    bayes.likelihood = [get_likelihood(h, d) for h in [h1, h2]] #Obtenemos el likelihood del dato,\n",
    "                                                                #dadas ambas hipotesis\n",
    "    bayes.posterior = bayes.prior * bayes.likelihood #Multiplicar prior * likelihood\n",
    "    bayes.posterior = bayes.posterior / bayes.posterior.sum() #Estandarización para quedar en [0,1]\n",
    "    return bayes\n",
    "\n",
    "def update_prior(bayes):\n",
    "    bayes.prior = bayes.posterior #Prior va a ser la posterior anterior\n",
    "    bayes.likelihood = np.nan\n",
    "    bayes.posterior = np.nan\n",
    "    return bayes"
   ]
  },
  {
   "cell_type": "code",
   "execution_count": 48,
   "id": "bc4a3d82",
   "metadata": {},
   "outputs": [],
   "source": [
    "def iterate(d, bayes):\n",
    "    bayes = get_posterior(d, bayes)\n",
    "    bayes = update_prior(bayes)\n",
    "    return bayes"
   ]
  },
  {
   "cell_type": "code",
   "execution_count": 52,
   "id": "cf21f173",
   "metadata": {},
   "outputs": [],
   "source": [
    "bayes = init_prior([0.5, 0.5], bayes)"
   ]
  },
  {
   "cell_type": "code",
   "execution_count": 53,
   "id": "9aff20a2",
   "metadata": {},
   "outputs": [
    {
     "data": {
      "text/html": [
       "<div>\n",
       "<style scoped>\n",
       "    .dataframe tbody tr th:only-of-type {\n",
       "        vertical-align: middle;\n",
       "    }\n",
       "\n",
       "    .dataframe tbody tr th {\n",
       "        vertical-align: top;\n",
       "    }\n",
       "\n",
       "    .dataframe thead th {\n",
       "        text-align: right;\n",
       "    }\n",
       "</style>\n",
       "<table border=\"1\" class=\"dataframe\">\n",
       "  <thead>\n",
       "    <tr style=\"text-align: right;\">\n",
       "      <th></th>\n",
       "      <th>prior</th>\n",
       "      <th>likelihood</th>\n",
       "      <th>posterior</th>\n",
       "    </tr>\n",
       "  </thead>\n",
       "  <tbody>\n",
       "    <tr>\n",
       "      <th>h1</th>\n",
       "      <td>0.333333</td>\n",
       "      <td>NaN</td>\n",
       "      <td>NaN</td>\n",
       "    </tr>\n",
       "    <tr>\n",
       "      <th>h2</th>\n",
       "      <td>0.666667</td>\n",
       "      <td>NaN</td>\n",
       "      <td>NaN</td>\n",
       "    </tr>\n",
       "  </tbody>\n",
       "</table>\n",
       "</div>"
      ],
      "text/plain": [
       "       prior  likelihood  posterior\n",
       "h1  0.333333         NaN        NaN\n",
       "h2  0.666667         NaN        NaN"
      ]
     },
     "execution_count": 53,
     "metadata": {},
     "output_type": "execute_result"
    }
   ],
   "source": [
    "d = 4\n",
    "bayes = iterate(d, bayes)\n",
    "bayes"
   ]
  },
  {
   "cell_type": "code",
   "execution_count": 54,
   "id": "bae26970",
   "metadata": {},
   "outputs": [
    {
     "data": {
      "text/html": [
       "<div>\n",
       "<style scoped>\n",
       "    .dataframe tbody tr th:only-of-type {\n",
       "        vertical-align: middle;\n",
       "    }\n",
       "\n",
       "    .dataframe tbody tr th {\n",
       "        vertical-align: top;\n",
       "    }\n",
       "\n",
       "    .dataframe thead th {\n",
       "        text-align: right;\n",
       "    }\n",
       "</style>\n",
       "<table border=\"1\" class=\"dataframe\">\n",
       "  <thead>\n",
       "    <tr style=\"text-align: right;\">\n",
       "      <th></th>\n",
       "      <th>prior</th>\n",
       "      <th>likelihood</th>\n",
       "      <th>posterior</th>\n",
       "    </tr>\n",
       "  </thead>\n",
       "  <tbody>\n",
       "    <tr>\n",
       "      <th>h1</th>\n",
       "      <td>0.2</td>\n",
       "      <td>NaN</td>\n",
       "      <td>NaN</td>\n",
       "    </tr>\n",
       "    <tr>\n",
       "      <th>h2</th>\n",
       "      <td>0.8</td>\n",
       "      <td>NaN</td>\n",
       "      <td>NaN</td>\n",
       "    </tr>\n",
       "  </tbody>\n",
       "</table>\n",
       "</div>"
      ],
      "text/plain": [
       "    prior  likelihood  posterior\n",
       "h1    0.2         NaN        NaN\n",
       "h2    0.8         NaN        NaN"
      ]
     },
     "execution_count": 54,
     "metadata": {},
     "output_type": "execute_result"
    }
   ],
   "source": [
    "d = 16\n",
    "bayes = iterate(d, bayes)\n",
    "bayes"
   ]
  },
  {
   "cell_type": "code",
   "execution_count": 55,
   "id": "3f4116a9",
   "metadata": {},
   "outputs": [
    {
     "data": {
      "text/html": [
       "<div>\n",
       "<style scoped>\n",
       "    .dataframe tbody tr th:only-of-type {\n",
       "        vertical-align: middle;\n",
       "    }\n",
       "\n",
       "    .dataframe tbody tr th {\n",
       "        vertical-align: top;\n",
       "    }\n",
       "\n",
       "    .dataframe thead th {\n",
       "        text-align: right;\n",
       "    }\n",
       "</style>\n",
       "<table border=\"1\" class=\"dataframe\">\n",
       "  <thead>\n",
       "    <tr style=\"text-align: right;\">\n",
       "      <th></th>\n",
       "      <th>prior</th>\n",
       "      <th>likelihood</th>\n",
       "      <th>posterior</th>\n",
       "    </tr>\n",
       "  </thead>\n",
       "  <tbody>\n",
       "    <tr>\n",
       "      <th>h1</th>\n",
       "      <td>0.111111</td>\n",
       "      <td>NaN</td>\n",
       "      <td>NaN</td>\n",
       "    </tr>\n",
       "    <tr>\n",
       "      <th>h2</th>\n",
       "      <td>0.888889</td>\n",
       "      <td>NaN</td>\n",
       "      <td>NaN</td>\n",
       "    </tr>\n",
       "  </tbody>\n",
       "</table>\n",
       "</div>"
      ],
      "text/plain": [
       "       prior  likelihood  posterior\n",
       "h1  0.111111         NaN        NaN\n",
       "h2  0.888889         NaN        NaN"
      ]
     },
     "execution_count": 55,
     "metadata": {},
     "output_type": "execute_result"
    }
   ],
   "source": [
    "d = 32\n",
    "bayes = iterate(d, bayes)\n",
    "bayes"
   ]
  },
  {
   "cell_type": "code",
   "execution_count": 56,
   "id": "b5f0686f",
   "metadata": {},
   "outputs": [
    {
     "data": {
      "text/html": [
       "<div>\n",
       "<style scoped>\n",
       "    .dataframe tbody tr th:only-of-type {\n",
       "        vertical-align: middle;\n",
       "    }\n",
       "\n",
       "    .dataframe tbody tr th {\n",
       "        vertical-align: top;\n",
       "    }\n",
       "\n",
       "    .dataframe thead th {\n",
       "        text-align: right;\n",
       "    }\n",
       "</style>\n",
       "<table border=\"1\" class=\"dataframe\">\n",
       "  <thead>\n",
       "    <tr style=\"text-align: right;\">\n",
       "      <th></th>\n",
       "      <th>prior</th>\n",
       "      <th>likelihood</th>\n",
       "      <th>posterior</th>\n",
       "    </tr>\n",
       "  </thead>\n",
       "  <tbody>\n",
       "    <tr>\n",
       "      <th>h1</th>\n",
       "      <td>0.996016</td>\n",
       "      <td>NaN</td>\n",
       "      <td>NaN</td>\n",
       "    </tr>\n",
       "    <tr>\n",
       "      <th>h2</th>\n",
       "      <td>0.003984</td>\n",
       "      <td>NaN</td>\n",
       "      <td>NaN</td>\n",
       "    </tr>\n",
       "  </tbody>\n",
       "</table>\n",
       "</div>"
      ],
      "text/plain": [
       "       prior  likelihood  posterior\n",
       "h1  0.996016         NaN        NaN\n",
       "h2  0.003984         NaN        NaN"
      ]
     },
     "execution_count": 56,
     "metadata": {},
     "output_type": "execute_result"
    }
   ],
   "source": [
    "d = 6\n",
    "bayes = iterate(d, bayes)\n",
    "bayes"
   ]
  }
 ],
 "metadata": {
  "kernelspec": {
   "display_name": "ml_course",
   "language": "python",
   "name": "python3"
  },
  "language_info": {
   "codemirror_mode": {
    "name": "ipython",
    "version": 3
   },
   "file_extension": ".py",
   "mimetype": "text/x-python",
   "name": "python",
   "nbconvert_exporter": "python",
   "pygments_lexer": "ipython3",
   "version": "3.10.16"
  }
 },
 "nbformat": 4,
 "nbformat_minor": 5
}
