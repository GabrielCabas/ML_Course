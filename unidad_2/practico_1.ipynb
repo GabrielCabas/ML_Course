{
 "cells": [
  {
   "cell_type": "code",
   "execution_count": 1,
   "id": "a6116fc9",
   "metadata": {
    "_cell_guid": "b1076dfc-b9ad-4769-8c92-a6c4dae69d19",
    "_uuid": "8f2839f25d086af736a60e9eeb907d3b93b6e0e5",
    "execution": {
     "iopub.execute_input": "2025-04-28T13:48:06.870883Z",
     "iopub.status.busy": "2025-04-28T13:48:06.869967Z",
     "iopub.status.idle": "2025-04-28T13:48:12.321097Z",
     "shell.execute_reply": "2025-04-28T13:48:12.319569Z"
    },
    "papermill": {
     "duration": 5.45802,
     "end_time": "2025-04-28T13:48:12.323059",
     "exception": false,
     "start_time": "2025-04-28T13:48:06.865039",
     "status": "completed"
    },
    "tags": []
   },
   "outputs": [
    {
     "name": "stdout",
     "output_type": "stream",
     "text": [
      "/kaggle/input/sentimental-analysis-for-tweets/sentiment_tweets3.csv\n"
     ]
    }
   ],
   "source": [
    "# This Python 3 environment comes with many helpful analytics libraries installed\n",
    "# It is defined by the kaggle/python Docker image: https://github.com/kaggle/docker-python\n",
    "# For example, here's several helpful packages to load\n",
    "\n",
    "import numpy as np # linear algebra\n",
    "import pandas as pd # data processing, CSV file I/O (e.g. pd.read_csv)\n",
    "from sklearn.metrics import normalized_mutual_info_score\n",
    "from sklearn.feature_selection import mutual_info_classif\n",
    "# Input data files are available in the read-only \"../input/\" directory\n",
    "# For example, running this (by clicking run or pressing Shift+Enter) will list all files under the input directory\n",
    "import re\n",
    "import nltk\n",
    "from nltk.corpus import stopwords\n",
    "from nltk.stem import PorterStemmer\n",
    "from sklearn.naive_bayes import MultinomialNB\n",
    "import os\n",
    "for dirname, _, filenames in os.walk('/kaggle/input'):\n",
    "    for filename in filenames:\n",
    "        print(os.path.join(dirname, filename))\n",
    "import re\n",
    "from sklearn.feature_extraction.text import CountVectorizer\n",
    "from sklearn.model_selection import train_test_split\n",
    "# You can write up to 20GB to the current directory (/kaggle/working/) that gets preserved as output when you create a version using \"Save & Run All\" \n",
    "# You can also write temporary files to /kaggle/temp/, but they won't be saved outside of the current session"
   ]
  },
  {
   "cell_type": "code",
   "execution_count": 2,
   "id": "6e952108",
   "metadata": {
    "execution": {
     "iopub.execute_input": "2025-04-28T13:48:12.332429Z",
     "iopub.status.busy": "2025-04-28T13:48:12.331913Z",
     "iopub.status.idle": "2025-04-28T13:48:12.430961Z",
     "shell.execute_reply": "2025-04-28T13:48:12.429888Z"
    },
    "papermill": {
     "duration": 0.106038,
     "end_time": "2025-04-28T13:48:12.432780",
     "exception": false,
     "start_time": "2025-04-28T13:48:12.326742",
     "status": "completed"
    },
    "tags": []
   },
   "outputs": [
    {
     "data": {
      "text/html": [
       "<div>\n",
       "<style scoped>\n",
       "    .dataframe tbody tr th:only-of-type {\n",
       "        vertical-align: middle;\n",
       "    }\n",
       "\n",
       "    .dataframe tbody tr th {\n",
       "        vertical-align: top;\n",
       "    }\n",
       "\n",
       "    .dataframe thead th {\n",
       "        text-align: right;\n",
       "    }\n",
       "</style>\n",
       "<table border=\"1\" class=\"dataframe\">\n",
       "  <thead>\n",
       "    <tr style=\"text-align: right;\">\n",
       "      <th></th>\n",
       "      <th>Index</th>\n",
       "      <th>message to examine</th>\n",
       "      <th>label (depression result)</th>\n",
       "    </tr>\n",
       "  </thead>\n",
       "  <tbody>\n",
       "    <tr>\n",
       "      <th>0</th>\n",
       "      <td>106</td>\n",
       "      <td>just had a real good moment. i missssssssss hi...</td>\n",
       "      <td>0</td>\n",
       "    </tr>\n",
       "    <tr>\n",
       "      <th>1</th>\n",
       "      <td>217</td>\n",
       "      <td>is reading manga  http://plurk.com/p/mzp1e</td>\n",
       "      <td>0</td>\n",
       "    </tr>\n",
       "    <tr>\n",
       "      <th>2</th>\n",
       "      <td>220</td>\n",
       "      <td>@comeagainjen http://twitpic.com/2y2lx - http:...</td>\n",
       "      <td>0</td>\n",
       "    </tr>\n",
       "    <tr>\n",
       "      <th>3</th>\n",
       "      <td>288</td>\n",
       "      <td>@lapcat Need to send 'em to my accountant tomo...</td>\n",
       "      <td>0</td>\n",
       "    </tr>\n",
       "    <tr>\n",
       "      <th>4</th>\n",
       "      <td>540</td>\n",
       "      <td>ADD ME ON MYSPACE!!!  myspace.com/LookThunder</td>\n",
       "      <td>0</td>\n",
       "    </tr>\n",
       "    <tr>\n",
       "      <th>...</th>\n",
       "      <td>...</td>\n",
       "      <td>...</td>\n",
       "      <td>...</td>\n",
       "    </tr>\n",
       "    <tr>\n",
       "      <th>10309</th>\n",
       "      <td>802309</td>\n",
       "      <td>No Depression by G Herbo is my mood from now o...</td>\n",
       "      <td>1</td>\n",
       "    </tr>\n",
       "    <tr>\n",
       "      <th>10310</th>\n",
       "      <td>802310</td>\n",
       "      <td>What do you do when depression succumbs the br...</td>\n",
       "      <td>1</td>\n",
       "    </tr>\n",
       "    <tr>\n",
       "      <th>10311</th>\n",
       "      <td>802311</td>\n",
       "      <td>Ketamine Nasal Spray Shows Promise Against Dep...</td>\n",
       "      <td>1</td>\n",
       "    </tr>\n",
       "    <tr>\n",
       "      <th>10312</th>\n",
       "      <td>802312</td>\n",
       "      <td>dont mistake a bad day with depression! everyo...</td>\n",
       "      <td>1</td>\n",
       "    </tr>\n",
       "    <tr>\n",
       "      <th>10313</th>\n",
       "      <td>802313</td>\n",
       "      <td>0</td>\n",
       "      <td>1</td>\n",
       "    </tr>\n",
       "  </tbody>\n",
       "</table>\n",
       "<p>10314 rows × 3 columns</p>\n",
       "</div>"
      ],
      "text/plain": [
       "        Index                                 message to examine  \\\n",
       "0         106  just had a real good moment. i missssssssss hi...   \n",
       "1         217         is reading manga  http://plurk.com/p/mzp1e   \n",
       "2         220  @comeagainjen http://twitpic.com/2y2lx - http:...   \n",
       "3         288  @lapcat Need to send 'em to my accountant tomo...   \n",
       "4         540      ADD ME ON MYSPACE!!!  myspace.com/LookThunder   \n",
       "...       ...                                                ...   \n",
       "10309  802309  No Depression by G Herbo is my mood from now o...   \n",
       "10310  802310  What do you do when depression succumbs the br...   \n",
       "10311  802311  Ketamine Nasal Spray Shows Promise Against Dep...   \n",
       "10312  802312  dont mistake a bad day with depression! everyo...   \n",
       "10313  802313                                                  0   \n",
       "\n",
       "       label (depression result)  \n",
       "0                              0  \n",
       "1                              0  \n",
       "2                              0  \n",
       "3                              0  \n",
       "4                              0  \n",
       "...                          ...  \n",
       "10309                          1  \n",
       "10310                          1  \n",
       "10311                          1  \n",
       "10312                          1  \n",
       "10313                          1  \n",
       "\n",
       "[10314 rows x 3 columns]"
      ]
     },
     "execution_count": 2,
     "metadata": {},
     "output_type": "execute_result"
    }
   ],
   "source": [
    "data = pd.read_csv(\"/kaggle/input/sentimental-analysis-for-tweets/sentiment_tweets3.csv\")\n",
    "data"
   ]
  },
  {
   "cell_type": "code",
   "execution_count": 3,
   "id": "debd3272",
   "metadata": {
    "execution": {
     "iopub.execute_input": "2025-04-28T13:48:12.440415Z",
     "iopub.status.busy": "2025-04-28T13:48:12.440120Z",
     "iopub.status.idle": "2025-04-28T13:48:12.455896Z",
     "shell.execute_reply": "2025-04-28T13:48:12.454857Z"
    },
    "papermill": {
     "duration": 0.022225,
     "end_time": "2025-04-28T13:48:12.458183",
     "exception": false,
     "start_time": "2025-04-28T13:48:12.435958",
     "status": "completed"
    },
    "tags": []
   },
   "outputs": [
    {
     "data": {
      "text/html": [
       "<div>\n",
       "<style scoped>\n",
       "    .dataframe tbody tr th:only-of-type {\n",
       "        vertical-align: middle;\n",
       "    }\n",
       "\n",
       "    .dataframe tbody tr th {\n",
       "        vertical-align: top;\n",
       "    }\n",
       "\n",
       "    .dataframe thead th {\n",
       "        text-align: right;\n",
       "    }\n",
       "</style>\n",
       "<table border=\"1\" class=\"dataframe\">\n",
       "  <thead>\n",
       "    <tr style=\"text-align: right;\">\n",
       "      <th></th>\n",
       "      <th>Index</th>\n",
       "      <th>text</th>\n",
       "      <th>target</th>\n",
       "    </tr>\n",
       "  </thead>\n",
       "  <tbody>\n",
       "    <tr>\n",
       "      <th>0</th>\n",
       "      <td>106</td>\n",
       "      <td>just had a real good moment. i missssssssss hi...</td>\n",
       "      <td>0</td>\n",
       "    </tr>\n",
       "    <tr>\n",
       "      <th>1</th>\n",
       "      <td>217</td>\n",
       "      <td>is reading manga  http://plurk.com/p/mzp1e</td>\n",
       "      <td>0</td>\n",
       "    </tr>\n",
       "    <tr>\n",
       "      <th>2</th>\n",
       "      <td>220</td>\n",
       "      <td>@comeagainjen http://twitpic.com/2y2lx - http:...</td>\n",
       "      <td>0</td>\n",
       "    </tr>\n",
       "    <tr>\n",
       "      <th>3</th>\n",
       "      <td>288</td>\n",
       "      <td>@lapcat Need to send 'em to my accountant tomo...</td>\n",
       "      <td>0</td>\n",
       "    </tr>\n",
       "    <tr>\n",
       "      <th>4</th>\n",
       "      <td>540</td>\n",
       "      <td>ADD ME ON MYSPACE!!!  myspace.com/LookThunder</td>\n",
       "      <td>0</td>\n",
       "    </tr>\n",
       "    <tr>\n",
       "      <th>...</th>\n",
       "      <td>...</td>\n",
       "      <td>...</td>\n",
       "      <td>...</td>\n",
       "    </tr>\n",
       "    <tr>\n",
       "      <th>10309</th>\n",
       "      <td>802309</td>\n",
       "      <td>No Depression by G Herbo is my mood from now o...</td>\n",
       "      <td>1</td>\n",
       "    </tr>\n",
       "    <tr>\n",
       "      <th>10310</th>\n",
       "      <td>802310</td>\n",
       "      <td>What do you do when depression succumbs the br...</td>\n",
       "      <td>1</td>\n",
       "    </tr>\n",
       "    <tr>\n",
       "      <th>10311</th>\n",
       "      <td>802311</td>\n",
       "      <td>Ketamine Nasal Spray Shows Promise Against Dep...</td>\n",
       "      <td>1</td>\n",
       "    </tr>\n",
       "    <tr>\n",
       "      <th>10312</th>\n",
       "      <td>802312</td>\n",
       "      <td>dont mistake a bad day with depression! everyo...</td>\n",
       "      <td>1</td>\n",
       "    </tr>\n",
       "    <tr>\n",
       "      <th>10313</th>\n",
       "      <td>802313</td>\n",
       "      <td>0</td>\n",
       "      <td>1</td>\n",
       "    </tr>\n",
       "  </tbody>\n",
       "</table>\n",
       "<p>10314 rows × 3 columns</p>\n",
       "</div>"
      ],
      "text/plain": [
       "        Index                                               text  target\n",
       "0         106  just had a real good moment. i missssssssss hi...       0\n",
       "1         217         is reading manga  http://plurk.com/p/mzp1e       0\n",
       "2         220  @comeagainjen http://twitpic.com/2y2lx - http:...       0\n",
       "3         288  @lapcat Need to send 'em to my accountant tomo...       0\n",
       "4         540      ADD ME ON MYSPACE!!!  myspace.com/LookThunder       0\n",
       "...       ...                                                ...     ...\n",
       "10309  802309  No Depression by G Herbo is my mood from now o...       1\n",
       "10310  802310  What do you do when depression succumbs the br...       1\n",
       "10311  802311  Ketamine Nasal Spray Shows Promise Against Dep...       1\n",
       "10312  802312  dont mistake a bad day with depression! everyo...       1\n",
       "10313  802313                                                  0       1\n",
       "\n",
       "[10314 rows x 3 columns]"
      ]
     },
     "execution_count": 3,
     "metadata": {},
     "output_type": "execute_result"
    }
   ],
   "source": [
    "data = data.rename(columns={\"message to examine\": \"text\", \"label (depression result)\": \"target\"})\n",
    "data"
   ]
  },
  {
   "cell_type": "code",
   "execution_count": 4,
   "id": "d099360a",
   "metadata": {
    "execution": {
     "iopub.execute_input": "2025-04-28T13:48:12.466611Z",
     "iopub.status.busy": "2025-04-28T13:48:12.466252Z",
     "iopub.status.idle": "2025-04-28T13:48:12.573946Z",
     "shell.execute_reply": "2025-04-28T13:48:12.572899Z"
    },
    "papermill": {
     "duration": 0.113945,
     "end_time": "2025-04-28T13:48:12.575733",
     "exception": false,
     "start_time": "2025-04-28T13:48:12.461788",
     "status": "completed"
    },
    "tags": []
   },
   "outputs": [
    {
     "name": "stderr",
     "output_type": "stream",
     "text": [
      "[nltk_data] Downloading package stopwords to /usr/share/nltk_data...\n",
      "[nltk_data]   Package stopwords is already up-to-date!\n"
     ]
    }
   ],
   "source": [
    "nltk.download('stopwords')\n",
    "stemmer = PorterStemmer()\n",
    "stop_words = set(stopwords.words('english'))\n",
    "def preprocess_tweet(tweet):\n",
    "    tweet = tweet.lower()\n",
    "    tweet = re.sub(r'http\\S+', '', tweet)\n",
    "    tweet = re.sub(r'@[\\w]+', '', tweet)\n",
    "    tweet = re.sub(r'#\\w+', '', tweet)\n",
    "    tweet = re.sub(r'[^a-záéíóúüñ\\s]', '', tweet)\n",
    "    words = tweet.split()\n",
    "    words = [stemmer.stem(word) for word in words if word not in stop_words]\n",
    "    processed_tweet = ' '.join(words)\n",
    "    return processed_tweet"
   ]
  },
  {
   "cell_type": "code",
   "execution_count": 5,
   "id": "9a5026ca",
   "metadata": {
    "execution": {
     "iopub.execute_input": "2025-04-28T13:48:12.584226Z",
     "iopub.status.busy": "2025-04-28T13:48:12.583881Z",
     "iopub.status.idle": "2025-04-28T13:48:14.005605Z",
     "shell.execute_reply": "2025-04-28T13:48:14.004531Z"
    },
    "papermill": {
     "duration": 1.428332,
     "end_time": "2025-04-28T13:48:14.007634",
     "exception": false,
     "start_time": "2025-04-28T13:48:12.579302",
     "status": "completed"
    },
    "tags": []
   },
   "outputs": [
    {
     "data": {
      "text/html": [
       "<div>\n",
       "<style scoped>\n",
       "    .dataframe tbody tr th:only-of-type {\n",
       "        vertical-align: middle;\n",
       "    }\n",
       "\n",
       "    .dataframe tbody tr th {\n",
       "        vertical-align: top;\n",
       "    }\n",
       "\n",
       "    .dataframe thead th {\n",
       "        text-align: right;\n",
       "    }\n",
       "</style>\n",
       "<table border=\"1\" class=\"dataframe\">\n",
       "  <thead>\n",
       "    <tr style=\"text-align: right;\">\n",
       "      <th></th>\n",
       "      <th>Index</th>\n",
       "      <th>text</th>\n",
       "      <th>target</th>\n",
       "      <th>processed_text</th>\n",
       "    </tr>\n",
       "  </thead>\n",
       "  <tbody>\n",
       "    <tr>\n",
       "      <th>0</th>\n",
       "      <td>106</td>\n",
       "      <td>just had a real good moment. i missssssssss hi...</td>\n",
       "      <td>0</td>\n",
       "      <td>real good moment missssssssss much</td>\n",
       "    </tr>\n",
       "    <tr>\n",
       "      <th>1</th>\n",
       "      <td>217</td>\n",
       "      <td>is reading manga  http://plurk.com/p/mzp1e</td>\n",
       "      <td>0</td>\n",
       "      <td>read manga</td>\n",
       "    </tr>\n",
       "    <tr>\n",
       "      <th>2</th>\n",
       "      <td>220</td>\n",
       "      <td>@comeagainjen http://twitpic.com/2y2lx - http:...</td>\n",
       "      <td>0</td>\n",
       "      <td></td>\n",
       "    </tr>\n",
       "    <tr>\n",
       "      <th>3</th>\n",
       "      <td>288</td>\n",
       "      <td>@lapcat Need to send 'em to my accountant tomo...</td>\n",
       "      <td>0</td>\n",
       "      <td>need send em account tomorrow oddli wasnt even...</td>\n",
       "    </tr>\n",
       "    <tr>\n",
       "      <th>4</th>\n",
       "      <td>540</td>\n",
       "      <td>ADD ME ON MYSPACE!!!  myspace.com/LookThunder</td>\n",
       "      <td>0</td>\n",
       "      <td>add myspac myspacecomlookthund</td>\n",
       "    </tr>\n",
       "    <tr>\n",
       "      <th>...</th>\n",
       "      <td>...</td>\n",
       "      <td>...</td>\n",
       "      <td>...</td>\n",
       "      <td>...</td>\n",
       "    </tr>\n",
       "    <tr>\n",
       "      <th>10309</th>\n",
       "      <td>802309</td>\n",
       "      <td>No Depression by G Herbo is my mood from now o...</td>\n",
       "      <td>1</td>\n",
       "      <td>depress g herbo mood im done stress peopl dont...</td>\n",
       "    </tr>\n",
       "    <tr>\n",
       "      <th>10310</th>\n",
       "      <td>802310</td>\n",
       "      <td>What do you do when depression succumbs the br...</td>\n",
       "      <td>1</td>\n",
       "      <td>depress succumb brain make feel like youll nev...</td>\n",
       "    </tr>\n",
       "    <tr>\n",
       "      <th>10311</th>\n",
       "      <td>802311</td>\n",
       "      <td>Ketamine Nasal Spray Shows Promise Against Dep...</td>\n",
       "      <td>1</td>\n",
       "      <td>ketamin nasal spray show promis depress suicid</td>\n",
       "    </tr>\n",
       "    <tr>\n",
       "      <th>10312</th>\n",
       "      <td>802312</td>\n",
       "      <td>dont mistake a bad day with depression! everyo...</td>\n",
       "      <td>1</td>\n",
       "      <td>dont mistak bad day depress everyon em</td>\n",
       "    </tr>\n",
       "    <tr>\n",
       "      <th>10313</th>\n",
       "      <td>802313</td>\n",
       "      <td>0</td>\n",
       "      <td>1</td>\n",
       "      <td></td>\n",
       "    </tr>\n",
       "  </tbody>\n",
       "</table>\n",
       "<p>10314 rows × 4 columns</p>\n",
       "</div>"
      ],
      "text/plain": [
       "        Index                                               text  target  \\\n",
       "0         106  just had a real good moment. i missssssssss hi...       0   \n",
       "1         217         is reading manga  http://plurk.com/p/mzp1e       0   \n",
       "2         220  @comeagainjen http://twitpic.com/2y2lx - http:...       0   \n",
       "3         288  @lapcat Need to send 'em to my accountant tomo...       0   \n",
       "4         540      ADD ME ON MYSPACE!!!  myspace.com/LookThunder       0   \n",
       "...       ...                                                ...     ...   \n",
       "10309  802309  No Depression by G Herbo is my mood from now o...       1   \n",
       "10310  802310  What do you do when depression succumbs the br...       1   \n",
       "10311  802311  Ketamine Nasal Spray Shows Promise Against Dep...       1   \n",
       "10312  802312  dont mistake a bad day with depression! everyo...       1   \n",
       "10313  802313                                                  0       1   \n",
       "\n",
       "                                          processed_text  \n",
       "0                     real good moment missssssssss much  \n",
       "1                                             read manga  \n",
       "2                                                         \n",
       "3      need send em account tomorrow oddli wasnt even...  \n",
       "4                         add myspac myspacecomlookthund  \n",
       "...                                                  ...  \n",
       "10309  depress g herbo mood im done stress peopl dont...  \n",
       "10310  depress succumb brain make feel like youll nev...  \n",
       "10311     ketamin nasal spray show promis depress suicid  \n",
       "10312             dont mistak bad day depress everyon em  \n",
       "10313                                                     \n",
       "\n",
       "[10314 rows x 4 columns]"
      ]
     },
     "execution_count": 5,
     "metadata": {},
     "output_type": "execute_result"
    }
   ],
   "source": [
    "data[\"processed_text\"] = data[\"text\"].apply(preprocess_tweet)\n",
    "data"
   ]
  },
  {
   "cell_type": "code",
   "execution_count": 6,
   "id": "f5f0386b",
   "metadata": {
    "execution": {
     "iopub.execute_input": "2025-04-28T13:48:14.016330Z",
     "iopub.status.busy": "2025-04-28T13:48:14.015725Z",
     "iopub.status.idle": "2025-04-28T13:48:14.240695Z",
     "shell.execute_reply": "2025-04-28T13:48:14.239737Z"
    },
    "papermill": {
     "duration": 0.231303,
     "end_time": "2025-04-28T13:48:14.242590",
     "exception": false,
     "start_time": "2025-04-28T13:48:14.011287",
     "status": "completed"
    },
    "tags": []
   },
   "outputs": [
    {
     "data": {
      "text/plain": [
       "<Compressed Sparse Row sparse matrix of dtype 'int64'\n",
       "\twith 57293 stored elements and shape (7735, 10000)>"
      ]
     },
     "execution_count": 6,
     "metadata": {},
     "output_type": "execute_result"
    }
   ],
   "source": [
    "vectorizer = CountVectorizer(max_features = 10000)\n",
    "vectorizer.fit(data[\"processed_text\"])\n",
    "X_train, X_test, y_train, y_test = train_test_split(data[[\"processed_text\"]], data[\"target\"], test_size=0.25, random_state=42)\n",
    "X_train_counts = vectorizer.transform(X_train[\"processed_text\"])\n",
    "X_test_counts = vectorizer.transform(X_test[\"processed_text\"])\n",
    "X_train_counts"
   ]
  },
  {
   "cell_type": "code",
   "execution_count": 7,
   "id": "4b31dba6",
   "metadata": {
    "execution": {
     "iopub.execute_input": "2025-04-28T13:48:14.252335Z",
     "iopub.status.busy": "2025-04-28T13:48:14.252048Z",
     "iopub.status.idle": "2025-04-28T13:48:14.300836Z",
     "shell.execute_reply": "2025-04-28T13:48:14.299594Z"
    },
    "papermill": {
     "duration": 0.055056,
     "end_time": "2025-04-28T13:48:14.302607",
     "exception": false,
     "start_time": "2025-04-28T13:48:14.247551",
     "status": "completed"
    },
    "tags": []
   },
   "outputs": [
    {
     "name": "stdout",
     "output_type": "stream",
     "text": [
      "              precision    recall  f1-score   support\n",
      "\n",
      "           0       0.99      0.97      0.98      2011\n",
      "           1       0.90      0.96      0.93       568\n",
      "\n",
      "    accuracy                           0.97      2579\n",
      "   macro avg       0.94      0.96      0.95      2579\n",
      "weighted avg       0.97      0.97      0.97      2579\n",
      "\n"
     ]
    }
   ],
   "source": [
    "mnb = MultinomialNB()\n",
    "mnb.fit(X_train_counts, y_train)\n",
    "y_pred_mnb = mnb.predict(X_test_counts)\n",
    "from sklearn.metrics import classification_report\n",
    "print(classification_report(y_test, y_pred_mnb))"
   ]
  },
  {
   "cell_type": "code",
   "execution_count": 8,
   "id": "2bf1fdd0",
   "metadata": {
    "execution": {
     "iopub.execute_input": "2025-04-28T13:48:14.311311Z",
     "iopub.status.busy": "2025-04-28T13:48:14.310987Z",
     "iopub.status.idle": "2025-04-28T13:48:35.473146Z",
     "shell.execute_reply": "2025-04-28T13:48:35.471914Z"
    },
    "papermill": {
     "duration": 21.168545,
     "end_time": "2025-04-28T13:48:35.475018",
     "exception": false,
     "start_time": "2025-04-28T13:48:14.306473",
     "status": "completed"
    },
    "tags": []
   },
   "outputs": [
    {
     "data": {
      "text/plain": [
       "2288                   warbler\n",
       "466                        dog\n",
       "2876                    marvel\n",
       "4681                     faint\n",
       "3152                    strike\n",
       "2017                     sheff\n",
       "5236                      stat\n",
       "3974                       tgi\n",
       "7964    pictwittercomyyweoaaua\n",
       "7953                  hopeless\n",
       "7895                    crappp\n",
       "3947                     gaeul\n",
       "2366                       bam\n",
       "2878                  mushroom\n",
       "1946                     booti\n",
       "7870                   friggin\n",
       "3269                   cashier\n",
       "2489                    pathet\n",
       "8294                  realcant\n",
       "6672                       wor\n",
       "4468     bekahampchrisampswazi\n",
       "3083                    intens\n",
       "374                       aint\n",
       "6839                    remain\n",
       "1399                    namast\n",
       "4193                      ambl\n",
       "2576                   biggest\n",
       "8106                  postgrad\n",
       "3873                    stream\n",
       "4661                      ahhh\n",
       "9104                 dysphoria\n",
       "7555                     rehab\n",
       "1533                     pweas\n",
       "2176                    avatar\n",
       "2670                      lost\n",
       "3328                      alll\n",
       "1062                    nearli\n",
       "8434                     nasal\n",
       "4230                     pedro\n",
       "7904                     staci\n",
       "1303                     ermso\n",
       "3953                       fad\n",
       "2748                  constant\n",
       "1158                    coupon\n",
       "3156                 delishhhh\n",
       "93                       think\n",
       "3981                   envelop\n",
       "1510                      flat\n",
       "6027                      robe\n",
       "8223                 stressrel\n",
       "dtype: object"
      ]
     },
     "execution_count": 8,
     "metadata": {},
     "output_type": "execute_result"
    }
   ],
   "source": [
    "#Palabras que aportan información\n",
    "mi = pd.Series(mutual_info_classif(X_train_counts, y_train))\n",
    "mi = mi.sort_values(ascending=False)[0:5000]\n",
    "vocab = pd.Series(vectorizer.vocabulary_.keys())\n",
    "vocab_mi = vocab.iloc[mi.index]\n",
    "vocab_mi.head(50)"
   ]
  },
  {
   "cell_type": "code",
   "execution_count": 9,
   "id": "a88771ac",
   "metadata": {
    "execution": {
     "iopub.execute_input": "2025-04-28T13:48:35.484550Z",
     "iopub.status.busy": "2025-04-28T13:48:35.484200Z",
     "iopub.status.idle": "2025-04-28T13:48:35.494817Z",
     "shell.execute_reply": "2025-04-28T13:48:35.493711Z"
    },
    "papermill": {
     "duration": 0.017532,
     "end_time": "2025-04-28T13:48:35.496830",
     "exception": false,
     "start_time": "2025-04-28T13:48:35.479298",
     "status": "completed"
    },
    "tags": []
   },
   "outputs": [
    {
     "data": {
      "text/plain": [
       "6995                  adrienn\n",
       "1593                cheesecak\n",
       "8901                   trisha\n",
       "7085                sleepback\n",
       "7210              photographi\n",
       "7058               coughcough\n",
       "7230                    pimpl\n",
       "7227                  shatter\n",
       "7197                 beforeit\n",
       "7198              welcomedont\n",
       "1698                   drinki\n",
       "7200                    soror\n",
       "7201                   beleiv\n",
       "1729                     fuel\n",
       "7202                  baccara\n",
       "533                    festiv\n",
       "1666                  teacher\n",
       "1594                  factori\n",
       "7224                   skitch\n",
       "1602                  omggggg\n",
       "1742                     feck\n",
       "7214                    purpl\n",
       "7216                   ridden\n",
       "8903               dreambuild\n",
       "8988    pictwittercomianyoaqc\n",
       "545                     fresh\n",
       "8989    pictwittercommkpapsrf\n",
       "7220                 weeeeeed\n",
       "1739                      pit\n",
       "1597                woooooooo\n",
       "7060                    venit\n",
       "1596                     tmrw\n",
       "1595                     prom\n",
       "1598                  graduat\n",
       "7203                  festiva\n",
       "550                     relax\n",
       "8910                conscious\n",
       "8956    pictwittercomsdltwbpw\n",
       "7070                  netbook\n",
       "1681               compliment\n",
       "526                    french\n",
       "6988             calledtermin\n",
       "8894                 oxytocin\n",
       "1676                   profil\n",
       "7247              quotbohicak\n",
       "7249                    uampi\n",
       "553                      food\n",
       "7250                      irl\n",
       "6986                    pollo\n",
       "1580                     mail\n",
       "dtype: object"
      ]
     },
     "execution_count": 9,
     "metadata": {},
     "output_type": "execute_result"
    }
   ],
   "source": [
    "#Palabras que no aportan información\n",
    "mi = mi.sort_values(ascending=True)[0:50]\n",
    "vocab_mi_bad = vocab.iloc[mi.index]\n",
    "vocab_mi_bad"
   ]
  },
  {
   "cell_type": "code",
   "execution_count": 10,
   "id": "4441bb62",
   "metadata": {
    "execution": {
     "iopub.execute_input": "2025-04-28T13:48:35.506124Z",
     "iopub.status.busy": "2025-04-28T13:48:35.505768Z",
     "iopub.status.idle": "2025-04-28T13:48:35.600666Z",
     "shell.execute_reply": "2025-04-28T13:48:35.599652Z"
    },
    "papermill": {
     "duration": 0.101982,
     "end_time": "2025-04-28T13:48:35.602880",
     "exception": false,
     "start_time": "2025-04-28T13:48:35.500898",
     "status": "completed"
    },
    "tags": []
   },
   "outputs": [
    {
     "data": {
      "text/plain": [
       "<Compressed Sparse Row sparse matrix of dtype 'int64'\n",
       "\twith 28782 stored elements and shape (7735, 5000)>"
      ]
     },
     "execution_count": 10,
     "metadata": {},
     "output_type": "execute_result"
    }
   ],
   "source": [
    "cv = CountVectorizer(vocabulary = vocab_mi.values)\n",
    "X_train_counts = cv.transform(X_train[\"processed_text\"])\n",
    "X_test_counts = cv.transform(X_test[\"processed_text\"])\n",
    "X_train_counts"
   ]
  },
  {
   "cell_type": "code",
   "execution_count": 11,
   "id": "f793caee",
   "metadata": {
    "execution": {
     "iopub.execute_input": "2025-04-28T13:48:35.612361Z",
     "iopub.status.busy": "2025-04-28T13:48:35.612005Z",
     "iopub.status.idle": "2025-04-28T13:48:35.631539Z",
     "shell.execute_reply": "2025-04-28T13:48:35.630435Z"
    },
    "papermill": {
     "duration": 0.026165,
     "end_time": "2025-04-28T13:48:35.633249",
     "exception": false,
     "start_time": "2025-04-28T13:48:35.607084",
     "status": "completed"
    },
    "tags": []
   },
   "outputs": [
    {
     "name": "stdout",
     "output_type": "stream",
     "text": [
      "              precision    recall  f1-score   support\n",
      "\n",
      "           0       0.98      0.97      0.98      2011\n",
      "           1       0.90      0.94      0.92       568\n",
      "\n",
      "    accuracy                           0.96      2579\n",
      "   macro avg       0.94      0.95      0.95      2579\n",
      "weighted avg       0.96      0.96      0.96      2579\n",
      "\n"
     ]
    }
   ],
   "source": [
    "mnb = MultinomialNB()\n",
    "mnb.fit(X_train_counts, y_train)\n",
    "y_pred_mnb = mnb.predict(X_test_counts)\n",
    "print(classification_report(y_test, y_pred_mnb))"
   ]
  }
 ],
 "metadata": {
  "kaggle": {
   "accelerator": "none",
   "dataSources": [
    {
     "datasetId": 1312443,
     "sourceId": 2186313,
     "sourceType": "datasetVersion"
    }
   ],
   "dockerImageVersionId": 31012,
   "isGpuEnabled": false,
   "isInternetEnabled": true,
   "language": "python",
   "sourceType": "notebook"
  },
  "kernelspec": {
   "display_name": "Python 3",
   "language": "python",
   "name": "python3"
  },
  "language_info": {
   "codemirror_mode": {
    "name": "ipython",
    "version": 3
   },
   "file_extension": ".py",
   "mimetype": "text/x-python",
   "name": "python",
   "nbconvert_exporter": "python",
   "pygments_lexer": "ipython3",
   "version": "3.11.11"
  },
  "papermill": {
   "default_parameters": {},
   "duration": 34.97499,
   "end_time": "2025-04-28T13:48:36.460725",
   "environment_variables": {},
   "exception": null,
   "input_path": "__notebook__.ipynb",
   "output_path": "__notebook__.ipynb",
   "parameters": {},
   "start_time": "2025-04-28T13:48:01.485735",
   "version": "2.6.0"
  }
 },
 "nbformat": 4,
 "nbformat_minor": 5
}
